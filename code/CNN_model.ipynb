{
 "cells": [
  {
   "cell_type": "markdown",
   "id": "6580b30b",
   "metadata": {},
   "source": []
  },
  {
   "cell_type": "markdown",
   "id": "about-heavy",
   "metadata": {},
   "source": [
    "## 0. Libarary 불러오기 및 경로설정"
   ]
  },
  {
   "cell_type": "code",
   "execution_count": 1,
   "id": "cubic-scoop",
   "metadata": {},
   "outputs": [],
   "source": [
    "import os\n",
    "import pandas as pd\n",
    "from PIL import Image\n",
    "\n",
    "import torch\n",
    "import torch.nn as nn\n",
    "import torch.nn.functional as F\n",
    "from torch.utils.data import Dataset, DataLoader\n",
    "\n",
    "from torchvision import transforms\n",
    "from torchvision.transforms import Resize, ToTensor, Normalize"
   ]
  },
  {
   "cell_type": "code",
   "execution_count": 2,
   "id": "built-elevation",
   "metadata": {},
   "outputs": [],
   "source": [
    "# 테스트 데이터셋 폴더 경로를 지정해주세요.\n",
    "test_dir = '/opt/ml/input/data/eval'"
   ]
  },
  {
   "cell_type": "markdown",
   "id": "quiet-organizer",
   "metadata": {},
   "source": [
    "## 1. Model 정의"
   ]
  },
  {
   "cell_type": "code",
   "execution_count": 3,
   "id": "1b8e341a",
   "metadata": {},
   "outputs": [],
   "source": [
    "# Conv_block\n",
    "# activation = relu\n",
    "# y = relu(BN(conv(x)))\n",
    "class Conv_block(nn.Module):\n",
    "    def __init__(self, in_channels, out_channels, activation=True, **kwargs) -> None:\n",
    "        super(Conv_block, self).__init__()\n",
    "        self.relu = nn.ReLU()\n",
    "        self.conv = nn.Conv2d(in_channels, out_channels, **kwargs) # kernel size = ...\n",
    "        self.batchnorm = nn.BatchNorm2d(out_channels)\n",
    "        self.activation = activation\n",
    "\n",
    "    def forward(self, x):\n",
    "        if not self.activation:\n",
    "            return self.batchnorm(self.conv(x))\n",
    "        return self.relu(self.batchnorm(self.conv(x)))"
   ]
  },
  {
   "cell_type": "code",
   "execution_count": 5,
   "id": "b15e70c0",
   "metadata": {},
   "outputs": [],
   "source": [
    "class Res_block(nn.Module):\n",
    "    def __init__(self, in_channels, red_channels, out_channels, is_plain=False):\n",
    "        super(Res_block,self).__init__()\n",
    "        self.relu = nn.ReLU()\n",
    "        self.is_plain = is_plain\n",
    "        \n",
    "        if in_channels==64:\n",
    "            self.convseq = nn.Sequential(\n",
    "                Conv_block(in_channels, red_channels, kernel_size=1, padding=0),\n",
    "                Conv_block(red_channels, red_channels*2, kernel_size=3, padding=1),\n",
    "                Conv_block(red_channels*2, out_channels, activation=False, kernel_size=1, padding=0)\n",
    "            )\n",
    "            self.iden = nn.Conv2d(in_channels, out_channels, kernel_size=1, stride=1)\n",
    "        elif in_channels == out_channels:\n",
    "            self.convseq = nn.Sequential(\n",
    "                Conv_block(in_channels, red_channels, kernel_size=1, padding=0),\n",
    "                Conv_block(red_channels, red_channels*2, kernel_size=3, padding=1),\n",
    "                Conv_block(red_channels*2, out_channels, activation=False, kernel_size=1, padding=0)\n",
    "            )\n",
    "            self.iden = nn.Identity()\n",
    "        else:\n",
    "            self.convseq = nn.Sequential(\n",
    "                Conv_block(in_channels, red_channels, kernel_size=1, padding=0, stride=2),\n",
    "                Conv_block(red_channels, red_channels*2, kernel_size=3, padding=1),\n",
    "                Conv_block(red_channels*2, out_channels, activation=False, kernel_size=1, padding=0)\n",
    "                \n",
    "            )\n",
    "            self.iden = nn.Conv2d(in_channels, out_channels, kernel_size=1, stride=2)\n",
    "        \n",
    "    def forward(self, x):\n",
    "        y = self.convseq(x)\n",
    "        if self.is_plain:\n",
    "            x = y\n",
    "        else:\n",
    "            x = y + self.iden(x)\n",
    "        x = self.relu(x)  # relu(skip connection)\n",
    "        return x"
   ]
  },
  {
   "cell_type": "code",
   "execution_count": 8,
   "id": "acknowledged-easter",
   "metadata": {},
   "outputs": [],
   "source": [
    "class MyModel(nn.Module):\n",
    "    def __init__(self, num_classes: int = 1000, is_plain=False):\n",
    "        super(MyModel, self).__init__()\n",
    "        self.layers = []\n",
    "        self.ksize = 3\n",
    "        \n",
    "        #L1\n",
    "        self.conv1 = Conv_block(3,32,krenel_size=self.ksize, padding=self.ksize//2, stride=(1,1))\n",
    "        self.conv2 = Conv_block(32,64,krenel_size=self.ksize, padding=self.ksize//2, stride=(2,2))\n",
    "        #Res1 \n",
    "        self.conv3_x = nn.Sequential(\n",
    "            Res_block(64, 32, 64, is_plain)\n",
    "        )\n",
    "        #L2\n",
    "        self.conv4 = Conv_block(64,128,krenel_size=self.ksize, padding=self.ksize//2, stride=(2,2))\n",
    "        #Res2  \n",
    "        self.conv5_x = nn.Sequential(\n",
    "            Res_block(128, 64, 128, is_plain),\n",
    "            Res_block(128, 64, 128, is_plain)\n",
    "        )  \n",
    "        #L3\n",
    "        self.conv6 = Conv_block(128,256,krenel_size=self.ksize, padding=self.ksize//2, stride=(2,2))\n",
    "        #Res3  \n",
    "        self.conv7_x = nn.Sequential(\n",
    "            Res_block(256, 128, 256, is_plain),\n",
    "            Res_block(256, 128, 256, is_plain),\n",
    "            Res_block(256, 128, 256, is_plain),\n",
    "            Res_block(256, 128, 256, is_plain),\n",
    "            Res_block(256, 128, 256, is_plain),\n",
    "            Res_block(256, 128, 256, is_plain),\n",
    "            Res_block(256, 128, 256, is_plain),\n",
    "            Res_block(256, 128, 256, is_plain),\n",
    "        )\n",
    "        #L4\n",
    "        self.conv8 = Conv_block(256,512,krenel_size=self.ksize, padding=self.ksize//2, stride=(2,2))\n",
    "        #Res4\n",
    "        self.conv9_x = nn.Sequential(\n",
    "            Res_block(512, 256, 512, is_plain),\n",
    "            Res_block(512, 256, 512, is_plain),\n",
    "            Res_block(512, 256, 512, is_plain),\n",
    "            Res_block(512, 256, 512, is_plain),\n",
    "            Res_block(512, 256, 512, is_plain),\n",
    "            Res_block(512, 256, 512, is_plain),\n",
    "            Res_block(512, 256, 512, is_plain),\n",
    "            Res_block(512, 256, 512, is_plain)\n",
    "        )\n",
    "        #L5\n",
    "        self.conv10 = Conv_block(512,1024,krenel_size=self.ksize, padding=self.ksize//2, stride=(2,2))\n",
    "        #Res5\n",
    "        self.conv11_x = nn.Sequential(\n",
    "            Res_block(1024, 512, 1024, is_plain),\n",
    "            Res_block(1024, 512, 1024, is_plain),\n",
    "            Res_block(1024, 512, 1024, is_plain),\n",
    "            Res_block(1024, 512, 1024, is_plain),\n",
    "        )\n",
    "        self.avgpool = nn.AdaptiveAvgPool2d((1, 1))\n",
    "        \n",
    "        self.classifier = nn.Sequential(\n",
    "            # nn.Dropout(),\n",
    "            # nn.Linear(64, 32),\n",
    "            # nn.ReLU(inplace=True),\n",
    "            nn.Linear(1024, num_classes),\n",
    "        )\n",
    "        \n",
    "    def forward(self, x: torch.Tensor) -> torch.Tensor:\n",
    "        x = self.conv1(x)\n",
    "        x = self.conv2(x)\n",
    "        x = self.conv3_x(x)\n",
    "        x = self.conv4(x)\n",
    "        x = self.conv5_x(x)\n",
    "        x = self.conv6(x)\n",
    "        x = self.conv7_x(x)\n",
    "        x = self.conv8(x)\n",
    "        x = self.conv9_x(x)\n",
    "        x = self.conv10(x)\n",
    "        x = self.conv11_x(x)\n",
    "        x = self.avgpool(x)\n",
    "\n",
    "        x = torch.flatten(x, 1)\n",
    "        x = self.classifier(x)\n",
    "        return x"
   ]
  },
  {
   "cell_type": "markdown",
   "id": "domestic-channels",
   "metadata": {},
   "source": [
    "## 2. Test Dataset 정의"
   ]
  },
  {
   "cell_type": "code",
   "execution_count": 9,
   "id": "extensive-north",
   "metadata": {},
   "outputs": [],
   "source": [
    "class TestDataset(Dataset):\n",
    "    def __init__(self, img_paths, transform):\n",
    "        self.img_paths = img_paths\n",
    "        self.transform = transform\n",
    "\n",
    "    def __getitem__(self, index):\n",
    "        image = Image.open(self.img_paths[index])\n",
    "\n",
    "        if self.transform:\n",
    "            image = self.transform(image)\n",
    "        return image\n",
    "\n",
    "    def __len__(self):\n",
    "        return len(self.img_paths)"
   ]
  },
  {
   "cell_type": "markdown",
   "id": "continued-feelings",
   "metadata": {},
   "source": [
    "## 3. Inference"
   ]
  },
  {
   "cell_type": "code",
   "execution_count": 10,
   "id": "coral-shade",
   "metadata": {},
   "outputs": [
    {
     "name": "stdout",
     "output_type": "stream",
     "text": [
      "test inference is done!\n"
     ]
    }
   ],
   "source": [
    "# meta 데이터와 이미지 경로를 불러옵니다.\n",
    "submission = pd.read_csv(os.path.join(test_dir, 'info.csv'))\n",
    "image_dir = os.path.join(test_dir, 'images')\n",
    "\n",
    "# Test Dataset 클래스 객체를 생성하고 DataLoader를 만듭니다.\n",
    "image_paths = [os.path.join(image_dir, img_id) for img_id in submission.ImageID]\n",
    "transform = transforms.Compose([\n",
    "    Resize((512, 384), Image.BILINEAR),\n",
    "    ToTensor(),\n",
    "    Normalize(mean=(0.5, 0.5, 0.5), std=(0.2, 0.2, 0.2)),\n",
    "])\n",
    "dataset = TestDataset(image_paths, transform)\n",
    "\n",
    "loader = DataLoader(\n",
    "    dataset,\n",
    "    shuffle=False\n",
    ")\n",
    "\n",
    "# 모델을 정의합니다. (학습한 모델이 있다면 torch.load로 모델을 불러주세요!)\n",
    "device = torch.device('cuda')\n",
    "model = MyModel(num_classes=18).to(device)\n",
    "model.eval()\n",
    "\n",
    "# 모델이 테스트 데이터셋을 예측하고 결과를 저장합니다.\n",
    "all_predictions = []\n",
    "for images in loader:\n",
    "    with torch.no_grad():\n",
    "        images = images.to(device)\n",
    "        pred = model(images)\n",
    "        pred = pred.argmax(dim=-1)\n",
    "        all_predictions.extend(pred.cpu().numpy())\n",
    "submission['ans'] = all_predictions\n",
    "\n",
    "# 제출할 파일을 저장합니다.\n",
    "submission.to_csv(os.path.join(test_dir, 'submission.csv'), index=False)\n",
    "print('test inference is done!')"
   ]
  },
  {
   "cell_type": "code",
   "execution_count": null,
   "id": "verbal-sample",
   "metadata": {},
   "outputs": [],
   "source": []
  }
 ],
 "metadata": {
  "kernelspec": {
   "display_name": "Python 3",
   "language": "python",
   "name": "python3"
  },
  "language_info": {
   "codemirror_mode": {
    "name": "ipython",
    "version": 3
   },
   "file_extension": ".py",
   "mimetype": "text/x-python",
   "name": "python",
   "nbconvert_exporter": "python",
   "pygments_lexer": "ipython3",
   "version": "3.8.5"
  }
 },
 "nbformat": 4,
 "nbformat_minor": 5
}
